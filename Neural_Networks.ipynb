{
  "cells": [
    {
      "cell_type": "markdown",
      "metadata": {
        "id": "KGGXyc815VHO"
      },
      "source": [
        "# Week-2 Assignment - Neural Networks\n",
        "\n",
        "Arpit Jain\n",
        "\n",
        "22B0078"
      ]
    },
    {
      "cell_type": "markdown",
      "metadata": {
        "id": "g8OQpziH5bhk"
      },
      "source": [
        "Import the necessary Libraries"
      ]
    },
    {
      "cell_type": "code",
      "execution_count": 35,
      "metadata": {
        "id": "2WZt3o_1JdzO"
      },
      "outputs": [],
      "source": [
        "import tensorflow as tf\n",
        "from tensorflow import keras\n",
        "from tensorflow.keras import layers"
      ]
    },
    {
      "cell_type": "markdown",
      "metadata": {
        "id": "P4qwKzW15jFS"
      },
      "source": [
        "Set the Image size (height, width) and the batch size"
      ]
    },
    {
      "cell_type": "code",
      "execution_count": 36,
      "metadata": {
        "id": "4qnhYXANK40K"
      },
      "outputs": [],
      "source": [
        "img_h = 64\n",
        "img_w = 64"
      ]
    },
    {
      "cell_type": "markdown",
      "metadata": {
        "id": "30_4PMP_5p5i"
      },
      "source": [
        "Import the image dataset using `image_dataset_from_directory` from `keras`\n"
      ]
    },
    {
      "cell_type": "code",
      "execution_count": 37,
      "metadata": {
        "colab": {
          "base_uri": "https://localhost:8080/"
        },
        "id": "Hdt-xIBWLdFo",
        "outputId": "9017991c-18ce-454d-f418-cfa3d7673ccd"
      },
      "outputs": [
        {
          "name": "stdout",
          "output_type": "stream",
          "text": [
            "Found 269 files belonging to 2 classes.\n"
          ]
        }
      ],
      "source": [
        "data = tf.keras.preprocessing.image_dataset_from_directory(\n",
        "    \"/content/drive/MyDrive/homer_bart/\",\n",
        "    labels = 'inferred',  # The labels are already provided\n",
        "    label_mode = \"binary\", # Binary mode of classification\n",
        "    image_size=(img_h, img_w),\n",
        "    # shuffle=True,  # Shuffles the images to better training nad test datasets\n",
        "    seed=42,\n",
        ")"
      ]
    },
    {
      "cell_type": "markdown",
      "metadata": {
        "id": "IvqRQS5Nl_8I"
      },
      "source": [
        "Split the data into `train` and `test` sets in `9:1` ratio"
      ]
    },
    {
      "cell_type": "code",
      "execution_count": 38,
      "metadata": {
        "id": "c9DfZ-teMS4z"
      },
      "outputs": [],
      "source": [
        "train_data = data.take(8)\n",
        "test_data = data.skip(8)\n",
        "\n",
        "train_data = train_data.cache().shuffle(1000).prefetch(buffer_size=tf.data.AUTOTUNE)\n",
        "test_data = test_data.cache().shuffle(1000).prefetch(buffer_size=tf.data.AUTOTUNE)\n"
      ]
    },
    {
      "cell_type": "code",
      "execution_count": 39,
      "metadata": {
        "id": "mDsFfH9dkIeI"
      },
      "outputs": [],
      "source": [
        "# Rescaling with keras Sequential\n",
        "preprocess = tf.keras.Sequential([\n",
        "    layers.Rescaling(1/255.0)\n",
        "])"
      ]
    },
    {
      "cell_type": "markdown",
      "metadata": {
        "id": "ifRSWGsU61U8"
      },
      "source": [
        "# Modelling\n",
        "\n",
        "* Build the model with the `Sequential` model from `keras`\n",
        "* Here, I have built the model with `4` hidden layers along with `1` input layer with shape `(64, 64, 3)` and then flatted the input layer and a `output` layer\n",
        "* Flatten the input layer\n",
        "* The first hidden layer has shape `(, 512)` with activation function - `relu`\n",
        "* The second hidden layer has shape `(, 256)` with activation function - `relu`\n",
        "* The second hidden layer has shape `(, 128)` with activation function - `relu`\n",
        "* The third hidden layer has shape `(, 64)` with activation function - `relu`\n",
        "* The output layer has shape `(, 1)` with activation function - `sigmoid`"
      ]
    },
    {
      "cell_type": "code",
      "execution_count": 40,
      "metadata": {
        "id": "4UrffiNWaKqI"
      },
      "outputs": [],
      "source": [
        "from keras import Sequential\n",
        "model = Sequential(\n",
        "    [\n",
        "    layers.Input(shape=(64, 64, 3)),\n",
        "    layers.Flatten(),  # Flatten the input before the Dense layers\n",
        "    layers.Dense(512, activation='relu'),\n",
        "    layers.Dense(256, activation='relu'),\n",
        "    layers.Dense(128, activation='relu'),\n",
        "    layers.Dense(64, activation='relu'),\n",
        "    layers.Dense(1, activation=\"sigmoid\"),\n",
        "    ]\n",
        ")"
      ]
    },
    {
      "cell_type": "markdown",
      "metadata": {
        "id": "TI2_rw8e8IAb"
      },
      "source": [
        "* Use the `Adam` optimizer with the `learning rate = 0.001`\n",
        "* The loss function is `BinaryCrossEntropy`\n",
        "* The metric used for evaluation is `accuracy`"
      ]
    },
    {
      "cell_type": "code",
      "execution_count": 45,
      "metadata": {
        "id": "5DIfsZqhdV-u"
      },
      "outputs": [],
      "source": [
        "model.compile(\n",
        "    optimizer=keras.optimizers.Adam(),  # Using keras.optimizers\n",
        "    loss = [\n",
        "        keras.losses.BinaryCrossentropy(),\n",
        "    ],\n",
        "    metrics = [\"accuracy\"],\n",
        ")\n"
      ]
    },
    {
      "cell_type": "markdown",
      "metadata": {
        "id": "Ui1TZe4B84zx"
      },
      "source": [
        "Train / Fit the model with `50` epochs and batch size of `32`"
      ]
    },
    {
      "cell_type": "code",
      "execution_count": 46,
      "metadata": {
        "colab": {
          "base_uri": "https://localhost:8080/"
        },
        "id": "IM16ImaJ89CT",
        "outputId": "f2ba5eaf-9185-4c53-bb49-d4b00c448c66"
      },
      "outputs": [
        {
          "name": "stdout",
          "output_type": "stream",
          "text": [
            "Epoch 1/50\n",
            "8/8 [==============================] - 2s 23ms/step - loss: 210.6046 - accuracy: 0.5977 - val_loss: 137.8217 - val_accuracy: 0.6154\n",
            "Epoch 2/50\n",
            "8/8 [==============================] - 0s 7ms/step - loss: 128.9120 - accuracy: 0.5625 - val_loss: 34.3255 - val_accuracy: 0.6923\n",
            "Epoch 3/50\n",
            "8/8 [==============================] - 0s 7ms/step - loss: 84.9941 - accuracy: 0.5234 - val_loss: 44.5797 - val_accuracy: 0.3846\n",
            "Epoch 4/50\n",
            "8/8 [==============================] - 0s 7ms/step - loss: 22.1494 - accuracy: 0.6680 - val_loss: 8.8479 - val_accuracy: 0.8462\n",
            "Epoch 5/50\n",
            "8/8 [==============================] - 0s 10ms/step - loss: 15.2662 - accuracy: 0.7188 - val_loss: 18.0686 - val_accuracy: 0.6154\n",
            "Epoch 6/50\n",
            "8/8 [==============================] - 0s 7ms/step - loss: 16.3893 - accuracy: 0.7188 - val_loss: 8.8221 - val_accuracy: 0.8462\n",
            "Epoch 7/50\n",
            "8/8 [==============================] - 0s 9ms/step - loss: 17.8406 - accuracy: 0.7266 - val_loss: 29.1666 - val_accuracy: 0.6923\n",
            "Epoch 8/50\n",
            "8/8 [==============================] - 0s 7ms/step - loss: 13.2296 - accuracy: 0.7812 - val_loss: 15.7371 - val_accuracy: 0.6923\n",
            "Epoch 9/50\n",
            "8/8 [==============================] - 0s 7ms/step - loss: 10.3869 - accuracy: 0.7734 - val_loss: 20.7963 - val_accuracy: 0.6923\n",
            "Epoch 10/50\n",
            "8/8 [==============================] - 0s 7ms/step - loss: 12.3159 - accuracy: 0.7617 - val_loss: 25.7676 - val_accuracy: 0.6923\n",
            "Epoch 11/50\n",
            "8/8 [==============================] - 0s 9ms/step - loss: 8.8353 - accuracy: 0.7930 - val_loss: 10.4452 - val_accuracy: 0.6923\n",
            "Epoch 12/50\n",
            "8/8 [==============================] - 0s 9ms/step - loss: 4.4367 - accuracy: 0.8242 - val_loss: 1.3341 - val_accuracy: 0.9231\n",
            "Epoch 13/50\n",
            "8/8 [==============================] - 0s 7ms/step - loss: 0.8540 - accuracy: 0.9297 - val_loss: 0.0276 - val_accuracy: 1.0000\n",
            "Epoch 14/50\n",
            "8/8 [==============================] - 0s 7ms/step - loss: 0.0448 - accuracy: 0.9922 - val_loss: 0.0015 - val_accuracy: 1.0000\n",
            "Epoch 15/50\n",
            "8/8 [==============================] - 0s 8ms/step - loss: 0.0218 - accuracy: 0.9961 - val_loss: 1.7717e-06 - val_accuracy: 1.0000\n",
            "Epoch 16/50\n",
            "8/8 [==============================] - 0s 10ms/step - loss: 3.3719e-05 - accuracy: 1.0000 - val_loss: 6.5358e-06 - val_accuracy: 1.0000\n",
            "Epoch 17/50\n",
            "8/8 [==============================] - 0s 8ms/step - loss: 2.7227e-04 - accuracy: 1.0000 - val_loss: 2.9252e-07 - val_accuracy: 1.0000\n",
            "Epoch 18/50\n",
            "8/8 [==============================] - 0s 7ms/step - loss: 0.0072 - accuracy: 0.9961 - val_loss: 0.0373 - val_accuracy: 1.0000\n",
            "Epoch 19/50\n",
            "8/8 [==============================] - 0s 7ms/step - loss: 0.0176 - accuracy: 0.9961 - val_loss: 9.1968e-07 - val_accuracy: 1.0000\n",
            "Epoch 20/50\n",
            "8/8 [==============================] - 0s 7ms/step - loss: 7.1567e-04 - accuracy: 1.0000 - val_loss: 1.3075e-07 - val_accuracy: 1.0000\n",
            "Epoch 21/50\n",
            "8/8 [==============================] - 0s 7ms/step - loss: 1.2284e-05 - accuracy: 1.0000 - val_loss: 3.9864e-07 - val_accuracy: 1.0000\n",
            "Epoch 22/50\n",
            "8/8 [==============================] - 0s 7ms/step - loss: 3.1687e-06 - accuracy: 1.0000 - val_loss: 1.4399e-06 - val_accuracy: 1.0000\n",
            "Epoch 23/50\n",
            "8/8 [==============================] - 0s 9ms/step - loss: 3.5764e-06 - accuracy: 1.0000 - val_loss: 2.5469e-06 - val_accuracy: 1.0000\n",
            "Epoch 24/50\n",
            "8/8 [==============================] - 0s 7ms/step - loss: 4.0856e-06 - accuracy: 1.0000 - val_loss: 3.2065e-06 - val_accuracy: 1.0000\n",
            "Epoch 25/50\n",
            "8/8 [==============================] - 0s 8ms/step - loss: 4.2577e-06 - accuracy: 1.0000 - val_loss: 3.4480e-06 - val_accuracy: 1.0000\n",
            "Epoch 26/50\n",
            "8/8 [==============================] - 0s 7ms/step - loss: 4.3300e-06 - accuracy: 1.0000 - val_loss: 3.4788e-06 - val_accuracy: 1.0000\n",
            "Epoch 27/50\n",
            "8/8 [==============================] - 0s 7ms/step - loss: 4.2101e-06 - accuracy: 1.0000 - val_loss: 3.4517e-06 - val_accuracy: 1.0000\n",
            "Epoch 28/50\n",
            "8/8 [==============================] - 0s 7ms/step - loss: 4.0859e-06 - accuracy: 1.0000 - val_loss: 3.3483e-06 - val_accuracy: 1.0000\n",
            "Epoch 29/50\n",
            "8/8 [==============================] - 0s 9ms/step - loss: 3.9239e-06 - accuracy: 1.0000 - val_loss: 3.2225e-06 - val_accuracy: 1.0000\n",
            "Epoch 30/50\n",
            "8/8 [==============================] - 0s 10ms/step - loss: 3.6821e-06 - accuracy: 1.0000 - val_loss: 3.1225e-06 - val_accuracy: 1.0000\n",
            "Epoch 31/50\n",
            "8/8 [==============================] - 0s 9ms/step - loss: 3.5120e-06 - accuracy: 1.0000 - val_loss: 3.0317e-06 - val_accuracy: 1.0000\n",
            "Epoch 32/50\n",
            "8/8 [==============================] - 0s 7ms/step - loss: 3.3612e-06 - accuracy: 1.0000 - val_loss: 2.9459e-06 - val_accuracy: 1.0000\n",
            "Epoch 33/50\n",
            "8/8 [==============================] - 0s 7ms/step - loss: 3.2334e-06 - accuracy: 1.0000 - val_loss: 2.8543e-06 - val_accuracy: 1.0000\n",
            "Epoch 34/50\n",
            "8/8 [==============================] - 0s 7ms/step - loss: 3.1175e-06 - accuracy: 1.0000 - val_loss: 2.7615e-06 - val_accuracy: 1.0000\n",
            "Epoch 35/50\n",
            "8/8 [==============================] - 0s 9ms/step - loss: 2.9950e-06 - accuracy: 1.0000 - val_loss: 2.6785e-06 - val_accuracy: 1.0000\n",
            "Epoch 36/50\n",
            "8/8 [==============================] - 0s 7ms/step - loss: 2.8951e-06 - accuracy: 1.0000 - val_loss: 2.5976e-06 - val_accuracy: 1.0000\n",
            "Epoch 37/50\n",
            "8/8 [==============================] - 0s 7ms/step - loss: 2.8159e-06 - accuracy: 1.0000 - val_loss: 2.5163e-06 - val_accuracy: 1.0000\n",
            "Epoch 38/50\n",
            "8/8 [==============================] - 0s 9ms/step - loss: 2.7195e-06 - accuracy: 1.0000 - val_loss: 2.4426e-06 - val_accuracy: 1.0000\n",
            "Epoch 39/50\n",
            "8/8 [==============================] - 0s 8ms/step - loss: 2.5914e-06 - accuracy: 1.0000 - val_loss: 2.4031e-06 - val_accuracy: 1.0000\n",
            "Epoch 40/50\n",
            "8/8 [==============================] - 0s 7ms/step - loss: 2.5608e-06 - accuracy: 1.0000 - val_loss: 2.3381e-06 - val_accuracy: 1.0000\n",
            "Epoch 41/50\n",
            "8/8 [==============================] - 0s 9ms/step - loss: 2.4700e-06 - accuracy: 1.0000 - val_loss: 2.2868e-06 - val_accuracy: 1.0000\n",
            "Epoch 42/50\n",
            "8/8 [==============================] - 0s 9ms/step - loss: 2.4048e-06 - accuracy: 1.0000 - val_loss: 2.2417e-06 - val_accuracy: 1.0000\n",
            "Epoch 43/50\n",
            "8/8 [==============================] - 0s 9ms/step - loss: 2.3448e-06 - accuracy: 1.0000 - val_loss: 2.1995e-06 - val_accuracy: 1.0000\n",
            "Epoch 44/50\n",
            "8/8 [==============================] - 0s 10ms/step - loss: 2.2934e-06 - accuracy: 1.0000 - val_loss: 2.1578e-06 - val_accuracy: 1.0000\n",
            "Epoch 45/50\n",
            "8/8 [==============================] - 0s 7ms/step - loss: 2.2348e-06 - accuracy: 1.0000 - val_loss: 2.1281e-06 - val_accuracy: 1.0000\n",
            "Epoch 46/50\n",
            "8/8 [==============================] - 0s 9ms/step - loss: 2.2049e-06 - accuracy: 1.0000 - val_loss: 2.0857e-06 - val_accuracy: 1.0000\n",
            "Epoch 47/50\n",
            "8/8 [==============================] - 0s 7ms/step - loss: 2.1605e-06 - accuracy: 1.0000 - val_loss: 2.0471e-06 - val_accuracy: 1.0000\n",
            "Epoch 48/50\n",
            "8/8 [==============================] - 0s 7ms/step - loss: 2.1080e-06 - accuracy: 1.0000 - val_loss: 2.0189e-06 - val_accuracy: 1.0000\n",
            "Epoch 49/50\n",
            "8/8 [==============================] - 0s 7ms/step - loss: 2.0795e-06 - accuracy: 1.0000 - val_loss: 1.9850e-06 - val_accuracy: 1.0000\n",
            "Epoch 50/50\n",
            "8/8 [==============================] - 0s 8ms/step - loss: 2.0511e-06 - accuracy: 1.0000 - val_loss: 1.9503e-06 - val_accuracy: 1.0000\n"
          ]
        },
        {
          "data": {
            "text/plain": [
              "<keras.src.callbacks.History at 0x7b42b7e29690>"
            ]
          },
          "execution_count": 46,
          "metadata": {},
          "output_type": "execute_result"
        }
      ],
      "source": [
        "# Set the epoch size\n",
        "NUM_EPOCHS = 50\n",
        "BATCH_SIZE = 32\n",
        "\n",
        "# Fit the model\n",
        "model.fit(train_data,\n",
        "          epochs=NUM_EPOCHS,\n",
        "          batch_size = BATCH_SIZE,\n",
        "          verbose=1,\n",
        "          validation_data = test_data)"
      ]
    },
    {
      "cell_type": "markdown",
      "metadata": {
        "id": "L8oesg-pnLTL"
      },
      "source": [
        "### Summary of the Model"
      ]
    },
    {
      "cell_type": "code",
      "execution_count": 47,
      "metadata": {
        "colab": {
          "base_uri": "https://localhost:8080/"
        },
        "id": "tVoqxVyundXf",
        "outputId": "22d6ce5d-cd69-4823-b783-e0e0d0ae95e5"
      },
      "outputs": [
        {
          "name": "stdout",
          "output_type": "stream",
          "text": [
            "Model: \"sequential_9\"\n",
            "_________________________________________________________________\n",
            " Layer (type)                Output Shape              Param #   \n",
            "=================================================================\n",
            " flatten_4 (Flatten)         (None, 12288)             0         \n",
            "                                                                 \n",
            " dense_20 (Dense)            (None, 512)               6291968   \n",
            "                                                                 \n",
            " dense_21 (Dense)            (None, 256)               131328    \n",
            "                                                                 \n",
            " dense_22 (Dense)            (None, 128)               32896     \n",
            "                                                                 \n",
            " dense_23 (Dense)            (None, 64)                8256      \n",
            "                                                                 \n",
            " dense_24 (Dense)            (None, 1)                 65        \n",
            "                                                                 \n",
            "=================================================================\n",
            "Total params: 6464513 (24.66 MB)\n",
            "Trainable params: 6464513 (24.66 MB)\n",
            "Non-trainable params: 0 (0.00 Byte)\n",
            "_________________________________________________________________\n"
          ]
        }
      ],
      "source": [
        "model.summary()"
      ]
    },
    {
      "cell_type": "code",
      "execution_count": 50,
      "metadata": {
        "colab": {
          "base_uri": "https://localhost:8080/"
        },
        "id": "QYva2rcO-TYe",
        "outputId": "0d3a32de-2cd1-42ca-ab27-23c11cd560d1"
      },
      "outputs": [
        {
          "name": "stdout",
          "output_type": "stream",
          "text": [
            "1/1 [==============================] - 0s 98ms/step - loss: 1.9503e-06 - accuracy: 1.0000\n",
            "The Test accuracy of the model is 1.00%\n"
          ]
        }
      ],
      "source": [
        "test_loass ,test_accuracy = model.evaluate(test_data,\n",
        "                                           verbose=1)\n",
        "print(f\"The Test accuracy of the model is {test_accuracy:.2f}%\")"
      ]
    },
    {
      "cell_type": "code",
      "execution_count": null,
      "metadata": {
        "id": "5GzJlItfms5O"
      },
      "outputs": [],
      "source": []
    }
  ],
  "metadata": {
    "accelerator": "GPU",
    "colab": {
      "gpuType": "T4",
      "provenance": []
    },
    "kernelspec": {
      "display_name": "Python 3",
      "name": "python3"
    },
    "language_info": {
      "name": "python"
    }
  },
  "nbformat": 4,
  "nbformat_minor": 0
}
